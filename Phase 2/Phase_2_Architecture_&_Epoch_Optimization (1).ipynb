{
  "nbformat": 4,
  "nbformat_minor": 0,
  "metadata": {
    "colab": {
      "name": "Phase 2: Architecture & Epoch Optimization.ipynb",
      "provenance": [],
      "collapsed_sections": []
    },
    "kernelspec": {
      "display_name": "Python 3",
      "name": "python3"
    },
    "language_info": {
      "name": "python"
    },
    "accelerator": "GPU"
  },
  "cells": [
    {
      "cell_type": "markdown",
      "metadata": {
        "id": "Q5PNemoygICJ"
      },
      "source": [
        "#Phase 2: Modeling & Hyperparameter Tuning "
      ]
    },
    {
      "cell_type": "code",
      "metadata": {
        "id": "Ne4oTBQblZKQ"
      },
      "source": [
        "!pip install -q -U keras-tuner"
      ],
      "execution_count": 2,
      "outputs": []
    },
    {
      "cell_type": "code",
      "metadata": {
        "id": "t_1wVH_KPCpd",
        "colab": {
          "base_uri": "https://localhost:8080/"
        },
        "outputId": "640580c8-f0ca-4ea0-abe2-ac1c2256b9b5"
      },
      "source": [
        "%matplotlib inline \n",
        "from tensorflow.keras.preprocessing.image import ImageDataGenerator\n",
        "from kerastuner.tuners import Hyperband\n",
        "from kerastuner import HyperModel\n",
        "import matplotlib.pyplot as plt #graphs \n",
        "import tensorflow as tf \n",
        "import keras_tuner as kt"
      ],
      "execution_count": 3,
      "outputs": [
        {
          "output_type": "stream",
          "text": [
            "/usr/local/lib/python3.7/dist-packages/ipykernel_launcher.py:3: DeprecationWarning: `import kerastuner` is deprecated, please use `import keras_tuner`.\n",
            "  This is separate from the ipykernel package so we can avoid doing imports until\n"
          ],
          "name": "stderr"
        }
      ]
    },
    {
      "cell_type": "markdown",
      "metadata": {
        "id": "tgvwUgWeo5z9"
      },
      "source": [
        "**Data Augmentation & Test, Train, Validation Split**"
      ]
    },
    {
      "cell_type": "code",
      "metadata": {
        "id": "0DKUEBLPQXO4"
      },
      "source": [
        "#Split validation set by 20%\n",
        "#Image generator helps creating image aumentation to increase the amount of data we have\n",
        "#Will implement various rotations and flips to the images to distort\n",
        "train_gen = ImageDataGenerator(rescale = 1./255, \n",
        "                               validation_split=0.20, \n",
        "                               rotation_range=45, \n",
        "                               width_shift_range=0.2, \n",
        "                               height_shift_range=0.2, \n",
        "                               horizontal_flip=True)\n",
        "\n",
        "test_gen = ImageDataGenerator(rescale = 1./255)\n",
        "\n",
        "\n",
        "def get_train_set(train_gen, input_size):\n",
        "  train_set = train_gen.flow_from_directory(\"/content/drive/MyDrive/DS 2 dataset/train\",\n",
        "                                         class_mode='categorical',\n",
        "                                         target_size= input_size,\n",
        "                                         color_mode = 'grayscale',\n",
        "                                         batch_size= 32, \n",
        "                                         shuffle = True, \n",
        "                                         subset ='training')\n",
        "  return train_set\n",
        "\n",
        "def get_validation_set(train_gen, input_size):\n",
        "  validation_set = train_gen.flow_from_directory(\"/content/drive/MyDrive/DS 2 dataset/train\",\n",
        "                                          target_size= input_size,\n",
        "                                          color_mode = 'grayscale',\n",
        "                                          class_mode='categorical',\n",
        "                                          batch_size= 32, \n",
        "                                          shuffle = True, \n",
        "                                          subset ='validation')\n",
        "  return validation_set\n",
        "\n",
        "def get_test_set(test_gen, input_size):\n",
        "  test_set = test_gen.flow_from_directory(\"/content/drive/MyDrive/DS 2 dataset/test\",\n",
        "                                         target_size=input_size, \n",
        "                                         color_mode = 'grayscale',\n",
        "                                         class_mode='categorical',\n",
        "                                         batch_size= 1,\n",
        "                                         shuffle = True)\n",
        "  return test_set"
      ],
      "execution_count": 4,
      "outputs": []
    },
    {
      "cell_type": "code",
      "metadata": {
        "colab": {
          "base_uri": "https://localhost:8080/"
        },
        "id": "-zF_AiurV9XY",
        "outputId": "6cac511b-3dd5-465f-c5e1-4a2973227840"
      },
      "source": [
        "#get train, val, test sets \n",
        "input_shape = (224,224,1)\n",
        "\n",
        "train_set = get_train_set(train_gen=train_gen, input_size = (224,224))\n",
        "val_set = get_validation_set(train_gen=train_gen, input_size = (224,224))\n",
        "test_set = get_test_set(test_gen=test_gen, input_size = (224,224))"
      ],
      "execution_count": 5,
      "outputs": [
        {
          "output_type": "stream",
          "text": [
            "Found 6755 images belonging to 196 classes.\n",
            "Found 1585 images belonging to 196 classes.\n",
            "Found 8041 images belonging to 196 classes.\n"
          ],
          "name": "stdout"
        }
      ]
    },
    {
      "cell_type": "markdown",
      "metadata": {
        "id": "QYQyxqAFo0cx"
      },
      "source": [
        "##Structural Tuning"
      ]
    },
    {
      "cell_type": "code",
      "metadata": {
        "id": "zjyyLHzOQAUx"
      },
      "source": [
        "#flatten layer = get vector to put in classifier \n",
        "# last conv layer followed by a dropout layer to prevent overfitting \n",
        "# flatten, fully connected layers \n",
        "\n",
        "class Hypermodel(HyperModel):\n",
        "\n",
        "  def __init__(self, NN_Type, num_dense_layers):\n",
        "\n",
        "    if (NN_Type != 'GoogleNet' and NN_Type != 'VGG16' and NN_Type != 'ResNet152'):\n",
        "      raise ValueError(\"Invalid model type\")\n",
        "\n",
        "    if (num_dense_layers <= 0):\n",
        "      raise ValueError(\"Invalid number of layers. You must have a minimum of 1 layer\")\n",
        "\n",
        "    self.NN_Type = NN_Type\n",
        "    self.num_dense_layers = num_dense_layers\n",
        "\n",
        "  def build(self, hp):\n",
        "\n",
        "    if (self.NN_Type == 'GoogleNet'):\n",
        "      #TODO: have options for pooling (none, avg, global)\n",
        "      base_model = tf.keras.applications.InceptionV3(include_top = False, weights=None , input_shape=(224, 224, 1))\n",
        "\n",
        "      #only taking first couple of \n",
        "      model = tf.keras.Model(inputs = base_model.input, outputs = base_model.get_layer('mixed7').output)\n",
        "      x = model.output\n",
        "\n",
        "    elif (self.NN_Type == 'VGG16'):\n",
        "      tf.keras.applications.VGG16()\n",
        "    else: \n",
        "      tf.keras.applications.ResNet152()\n",
        "\n",
        "    #flatten\n",
        "    x = tf.keras.layers.Flatten()(x)\n",
        "\n",
        "    #dense\n",
        "    for i in range(self.num_dense_layers):\n",
        "      x = tf.keras.layers.Dense(units=hp.Int('units', min_value = 0.0, max_value = 512, step = 32), activation=hp.Choice('dense_activation', values=['relu', 'tanh', 'sigmoid'],default='relu'))(x)\n",
        "\n",
        "    #dropout\n",
        "    x = tf.keras.layers.Dropout(rate = hp.Float('dropout', min_value = 0.0, max_value = 0.5, default =  0.1, step = 0.05))(x)\n",
        "\n",
        "    #classification layer(dense)\n",
        "    x = tf.keras.layers.Dense(196, activation = 'softmax')(x)\n",
        "\n",
        "    model = tf.keras.Model(model.input, x)\n",
        "    model.compile(optimizer= tf.keras.optimizers.Adam(hp.Choice('learning_rate', values=[1e-3])),loss='categorical_crossentropy',metrics=['accuracy'])\n",
        "\n",
        "    return model"
      ],
      "execution_count": 6,
      "outputs": []
    },
    {
      "cell_type": "code",
      "metadata": {
        "id": "PIPh_cxsQ2Y_",
        "colab": {
          "base_uri": "https://localhost:8080/"
        },
        "outputId": "ed9a935a-aaf7-485f-a59b-b85412a2f810"
      },
      "source": [
        "#don't explore unlikely options \n",
        "stop_early = tf.keras.callbacks.EarlyStopping(monitor='val_loss', patience=8)\n",
        "\n",
        "#create model checkpoint (save at this point)\n",
        "\n",
        "\n",
        "hypermodel_Google = Hypermodel(NN_Type = 'GoogleNet', num_dense_layers= 2)\n",
        "#hypermodel_VGG = Hypermodel(NN_Type = 'VGG16')\n",
        "#hypermodel_ResNet = Hypermodel(NN_Type = 'GoogleNet')\n",
        "\n",
        "tuner_GN = Hyperband(hypermodel =hypermodel_Google, objective = 'val_accuracy', max_epochs = 100)\n",
        "#tuner_VGG = Hyperband(hypermodel=hypermodel_VGG, objective='val_accuracy', max_epochs=100)\n",
        "#tuner_ResNet = Hyperband(hypermodel=hypermodel_ResNet, objective='val_accuracy', max_epochs=100)"
      ],
      "execution_count": 7,
      "outputs": [
        {
          "output_type": "stream",
          "text": [
            "INFO:tensorflow:Reloading Oracle from existing project ./untitled_project/oracle.json\n",
            "INFO:tensorflow:Reloading Tuner from ./untitled_project/tuner0.json\n"
          ],
          "name": "stdout"
        }
      ]
    },
    {
      "cell_type": "markdown",
      "metadata": {
        "id": "_YQhQrMdiq7h"
      },
      "source": [
        "**GoogleNet Validation**"
      ]
    },
    {
      "cell_type": "code",
      "metadata": {
        "id": "1UeQMTJIiQsN",
        "colab": {
          "base_uri": "https://localhost:8080/"
        },
        "outputId": "e5460c19-a8f4-4343-d897-83bd69a30498"
      },
      "source": [
        "tuner_GN.search_space_summary()"
      ],
      "execution_count": 8,
      "outputs": [
        {
          "output_type": "stream",
          "text": [
            "Search space summary\n",
            "Default search space size: 4\n",
            "units (Int)\n",
            "{'default': None, 'conditions': [], 'min_value': 0, 'max_value': 512, 'step': 32, 'sampling': None}\n",
            "dense_activation (Choice)\n",
            "{'default': 'relu', 'conditions': [], 'values': ['relu', 'tanh', 'sigmoid'], 'ordered': False}\n",
            "dropout (Float)\n",
            "{'default': 0.1, 'conditions': [], 'min_value': 0.0, 'max_value': 0.5, 'step': 0.05, 'sampling': None}\n",
            "learning_rate (Choice)\n",
            "{'default': 0.0001, 'conditions': [], 'values': [0.0001, 0.001, 0.01], 'ordered': True}\n"
          ],
          "name": "stdout"
        }
      ]
    },
    {
      "cell_type": "code",
      "metadata": {
        "id": "Nij6mzQ1jM1I",
        "colab": {
          "base_uri": "https://localhost:8080/"
        },
        "outputId": "9e950b2c-9710-4c57-fef3-538042f3bdc3"
      },
      "source": [
        "tuner_GN.search(train_set, epochs = 50, validation_data = val_set, callbacks = [stop_early])"
      ],
      "execution_count": null,
      "outputs": [
        {
          "output_type": "stream",
          "text": [
            "\n",
            "Search: Running Trial #1\n",
            "\n",
            "Hyperparameter    |Value             |Best Value So Far \n",
            "units             |0                 |448               \n",
            "dense_activation  |relu              |sigmoid           \n",
            "dropout           |0.35              |0.1               \n",
            "learning_rate     |0.01              |0.001             \n",
            "tuner/epochs      |2                 |2                 \n",
            "tuner/initial_e...|0                 |0                 \n",
            "tuner/bracket     |4                 |4                 \n",
            "tuner/round       |0                 |0                 \n",
            "\n",
            "Epoch 1/2\n"
          ],
          "name": "stdout"
        }
      ]
    },
    {
      "cell_type": "code",
      "metadata": {
        "id": "n7XC8h_rAJAD"
      },
      "source": [
        "#save best weights\n",
        "best_hps = tuner_GN.get_best_hyperparameters(num_trials = 1)[0]\n",
        "best_model_GN = tuner_GN.hypermodel.build(best_hps)\n",
        "best_model_GN.save(\"google_net_hyperband\") "
      ],
      "execution_count": null,
      "outputs": []
    },
    {
      "cell_type": "markdown",
      "metadata": {
        "id": "EdXzI04uMJva"
      },
      "source": [
        "**VGG16 Validation**"
      ]
    },
    {
      "cell_type": "markdown",
      "metadata": {
        "id": "w9TZO9jsMaF5"
      },
      "source": [
        "**ResNet152 Validation**"
      ]
    },
    {
      "cell_type": "markdown",
      "metadata": {
        "id": "n7vkk1yPJCq_"
      },
      "source": [
        "##Epoch Optimization for Best Models"
      ]
    },
    {
      "cell_type": "code",
      "metadata": {
        "id": "3PSyxtC-moEB"
      },
      "source": [
        ""
      ],
      "execution_count": null,
      "outputs": []
    }
  ]
}