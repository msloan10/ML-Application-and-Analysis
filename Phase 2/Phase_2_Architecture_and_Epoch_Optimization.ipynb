{
  "nbformat": 4,
  "nbformat_minor": 0,
  "metadata": {
    "accelerator": "GPU",
    "colab": {
      "name": "Phase 2: Architecture and Epoch Optimization.ipynb",
      "provenance": [],
      "collapsed_sections": []
    },
    "kernelspec": {
      "display_name": "Python 3",
      "name": "python3"
    },
    "language_info": {
      "name": "python"
    }
  },
  "cells": [
    {
      "cell_type": "markdown",
      "metadata": {
        "id": "Q5PNemoygICJ"
      },
      "source": [
        "#Phase 2: Modeling & Hyperparameter Tuning "
      ]
    },
    {
      "cell_type": "code",
      "metadata": {
        "id": "t_1wVH_KPCpd"
      },
      "source": [
        "#from sklearn.model_selection import GridSearchCV\n",
        "from tensorflow.keras.preprocessing.image import ImageDataGenerator\n",
        "import matplotlib.pyplot as plt #graphs \n",
        "import tensorflow as tf \n",
        "#import sklearn as skl"
      ],
      "execution_count": null,
      "outputs": []
    },
    {
      "cell_type": "markdown",
      "metadata": {
        "id": "tgvwUgWeo5z9"
      },
      "source": [
        "**Train, Test, Validation**"
      ]
    },
    {
      "cell_type": "code",
      "metadata": {
        "id": "0DKUEBLPQXO4"
      },
      "source": [
        "#Split validation set by 20%\n",
        "#Image generator helps creating image aumentation to increase the amount of data we have\n",
        "#Will implement various rotations and flips to the images to distort\n",
        "train_gen = ImageDataGenerator(rescale = 1./255, validation_split=0.20)\n",
        "test_gen = ImageDataGenerator(rescale = 1./255)\n",
        "\n",
        "\n",
        "def get_train_set(train_gen, input_size):\n",
        "  train_set = train_gen.flow_from_directory(\"/content/drive/MyDrive/DS 2 dataset/train\",\n",
        "                                         class_mode='categorical',\n",
        "                                         target_size= input_size,\n",
        "                                         color_mode = 'grayscale',\n",
        "                                         batch_size= 32, \n",
        "                                         shuffle = True, \n",
        "                                         subset ='training')\n",
        "  return train_set\n",
        "\n",
        "def get_validation_set(train_gen, input_size):\n",
        "  validation_set = train_gen.flow_from_directory(\"/content/drive/MyDrive/DS 2 dataset/train\",\n",
        "                                          target_size= input_size,\n",
        "                                          color_mode = 'grayscale',\n",
        "                                          class_mode='categorical',\n",
        "                                          batch_size= 32, \n",
        "                                          shuffle = True, \n",
        "                                          subset ='validation')\n",
        "  return validation_set\n",
        "\n",
        "def get_test_set(test_gen, input_size):\n",
        "  test_set = test_gen.flow_from_directory(\"/content/drive/MyDrive/DS 2 dataset/test\",\n",
        "                                         target_size=input_size, \n",
        "                                         color_mode = 'grayscale',\n",
        "                                         class_mode='categorical',\n",
        "                                         batch_size= 1,\n",
        "                                         shuffle = True)\n",
        "  return test_set"
      ],
      "execution_count": null,
      "outputs": []
    },
    {
      "cell_type": "markdown",
      "metadata": {
        "id": "QYQyxqAFo0cx"
      },
      "source": [
        "#Modeling & Hyper-parameter Tuning"
      ]
    },
    {
      "cell_type": "code",
      "metadata": {
        "colab": {
          "base_uri": "https://localhost:8080/"
        },
        "id": "Ne4oTBQblZKQ",
        "outputId": "4bb1c947-afa6-439c-b730-1e0c9adb443c"
      },
      "source": [
        "!pip install -q -U keras-tuner"
      ],
      "execution_count": null,
      "outputs": [
        {
          "output_type": "stream",
          "text": [
            "\u001b[?25l\r\u001b[K     |███▍                            | 10 kB 36.1 MB/s eta 0:00:01\r\u001b[K     |██████▉                         | 20 kB 31.9 MB/s eta 0:00:01\r\u001b[K     |██████████▏                     | 30 kB 18.8 MB/s eta 0:00:01\r\u001b[K     |█████████████▋                  | 40 kB 15.8 MB/s eta 0:00:01\r\u001b[K     |█████████████████               | 51 kB 8.7 MB/s eta 0:00:01\r\u001b[K     |████████████████████▍           | 61 kB 9.0 MB/s eta 0:00:01\r\u001b[K     |███████████████████████▊        | 71 kB 7.8 MB/s eta 0:00:01\r\u001b[K     |███████████████████████████▏    | 81 kB 8.7 MB/s eta 0:00:01\r\u001b[K     |██████████████████████████████▋ | 92 kB 9.6 MB/s eta 0:00:01\r\u001b[K     |████████████████████████████████| 96 kB 4.7 MB/s \n",
            "\u001b[?25h  Building wheel for kt-legacy (setup.py) ... \u001b[?25l\u001b[?25hdone\n"
          ],
          "name": "stdout"
        }
      ]
    },
    {
      "cell_type": "code",
      "metadata": {
        "colab": {
          "base_uri": "https://localhost:8080/"
        },
        "id": "m77SM3xwKLiC",
        "outputId": "4588d127-643d-4a90-ee47-bffbcc73a08d"
      },
      "source": [
        "from tensorflow.keras.applications import xception #most parameters (44 mil)\n",
        "import keras_tuner as kt\n",
        "from kerastuner.tuners import Hyperband"
      ],
      "execution_count": null,
      "outputs": [
        {
          "output_type": "stream",
          "text": [
            "/usr/local/lib/python3.7/dist-packages/ipykernel_launcher.py:3: DeprecationWarning: `import kerastuner` is deprecated, please use `import keras_tuner`.\n",
            "  This is separate from the ipykernel package so we can avoid doing imports until\n"
          ],
          "name": "stderr"
        }
      ]
    },
    {
      "cell_type": "code",
      "metadata": {
        "id": "zjyyLHzOQAUx"
      },
      "source": [
        "  #input, conv2d, pooling,flatten ,Dense, output\n",
        "  #Sequential = order layers are vistied\n",
        "  #flatten layer = get vector to put in classifier \n",
        "\n",
        "  # 3 conv layers followed by max pool \n",
        "  # 3rd conv layer followed by a dropout layer to prevent overfitting \n",
        "  # flatten, fully connected layers \n",
        "\n",
        "def build_scratch_model(hp):\n",
        "    model = tf.keras.Sequential([tf.keras.layers.Conv2D(filters = hp.Choice('num_filters', \n",
        "                                                                          values = [32,64], \n",
        "                                                                          default = 64), kernel_size=(3,3),\n",
        "                                                      activation = 'relu',input_shape = (224,224,1)),\n",
        "                               \n",
        "                               tf.keras.layers.MaxPool2D(3,3),\n",
        "\n",
        "                               tf.keras.layers.Conv2D(filters = hp.Choice('num_filters', values  = [32,64], default = 64), kernel_size=(3,3),activation='relu'),\n",
        "                               tf.keras.layers.MaxPool2D(3,3),\n",
        "\n",
        "                               tf.keras.layers.Conv2D(filters = hp.Choice('num_filters',\n",
        "                                                                          values  = [32,64],\n",
        "                                                                          default = 64), kernel_size=(3,3),\n",
        "                                                      activation='relu'),\n",
        "\n",
        "                               tf.keras.layers.Dropout(hp.Float('dropout',\n",
        "                                                                min_value=0.0,\n",
        "                                                                max_value=0.1,\n",
        "                                                                default=0.005,\n",
        "                                                                step=0.01)),\n",
        "                               tf.keras.layers.MaxPool2D(3,3),\n",
        "\n",
        "                               tf.keras.layers.Flatten(),\n",
        "\n",
        "                               tf.keras.layers.Dense(units=hp.Int('units', min_value = 32,\n",
        "                                                                  max_value=512,\n",
        "                                                                  step=32),\n",
        "                                                     activation= 'relu'),\n",
        "                               \n",
        "                               tf.keras.layers.Dense(196, activation='softmax')])\n",
        "  \n",
        "    model.compile(optimizer= tf.keras.optimizers.Adam(hp.Choice('learning_rate',\n",
        "                      values=[1e-3])),\n",
        "              loss='categorical_crossentropy',\n",
        "              metrics=['accuracy'])\n",
        "    \n",
        "  \n",
        "    return model "
      ],
      "execution_count": null,
      "outputs": []
    },
    {
      "cell_type": "code",
      "metadata": {
        "id": "PIPh_cxsQ2Y_"
      },
      "source": [
        "tuner_1 = Hyperband(hypermodel=build_scratch_model, objective='val_accuracy', max_epochs= 100)\n",
        "stop_early = tf.keras.callbacks.EarlyStopping(monitor='val_loss', patience=5)"
      ],
      "execution_count": null,
      "outputs": []
    },
    {
      "cell_type": "code",
      "metadata": {
        "colab": {
          "base_uri": "https://localhost:8080/"
        },
        "id": "QhD-vwo4iF56",
        "outputId": "d78b3f83-3c8d-4c39-ac04-fd1c62c3e774"
      },
      "source": [
        "tuner_1.search_space_summary()"
      ],
      "execution_count": null,
      "outputs": [
        {
          "output_type": "stream",
          "text": [
            "Search space summary\n",
            "Default search space size: 4\n",
            "num_filters (Choice)\n",
            "{'default': 64, 'conditions': [], 'values': [32, 64], 'ordered': True}\n",
            "dropout (Float)\n",
            "{'default': 0.005, 'conditions': [], 'min_value': 0.0, 'max_value': 0.1, 'step': 0.01, 'sampling': None}\n",
            "units (Int)\n",
            "{'default': None, 'conditions': [], 'min_value': 32, 'max_value': 512, 'step': 32, 'sampling': None}\n",
            "learning_rate (Choice)\n",
            "{'default': 0.001, 'conditions': [], 'values': [0.001], 'ordered': True}\n"
          ],
          "name": "stdout"
        }
      ]
    },
    {
      "cell_type": "code",
      "metadata": {
        "colab": {
          "base_uri": "https://localhost:8080/"
        },
        "id": "vYDg6gvvjIqR",
        "outputId": "61f115e0-1eb6-45a6-f56b-1975158a0a1a"
      },
      "source": [
        "tuner_1.search(get_train_set(train_gen=train_gen, input_size = (224,224)), epochs = 50, validation_data = get_validation_set(train_gen=train_gen, input_size= (224,224)), callbacks = [stop_early])"
      ],
      "execution_count": null,
      "outputs": [
        {
          "output_type": "stream",
          "text": [
            "Trial 254 Complete [00h 04m 18s]\n",
            "val_accuracy: 0.11230283975601196\n",
            "\n",
            "Best val_accuracy So Far: 0.17981073260307312\n",
            "Total elapsed time: 06h 48m 02s\n",
            "INFO:tensorflow:Oracle triggered exit\n"
          ],
          "name": "stdout"
        }
      ]
    },
    {
      "cell_type": "code",
      "metadata": {
        "id": "iNkpRAfPTVr0",
        "colab": {
          "base_uri": "https://localhost:8080/"
        },
        "outputId": "6dc0c4b2-a111-4460-b539-df58a75f3c6e"
      },
      "source": [
        " tuner_1.results_summary()"
      ],
      "execution_count": null,
      "outputs": [
        {
          "output_type": "stream",
          "text": [
            "Results summary\n",
            "Results in ./untitled_project\n",
            "Showing 10 best trials\n",
            "Objective(name='val_accuracy', direction='max')\n",
            "Trial summary\n",
            "Hyperparameters:\n",
            "num_filters: 32\n",
            "dropout: 0.04\n",
            "units: 416\n",
            "learning_rate: 0.001\n",
            "tuner/epochs: 34\n",
            "tuner/initial_epoch: 12\n",
            "tuner/bracket: 4\n",
            "tuner/round: 3\n",
            "tuner/trial_id: a373e1f878f5b55ce3505086e5564143\n",
            "Score: 0.17981073260307312\n",
            "Trial summary\n",
            "Hyperparameters:\n",
            "num_filters: 64\n",
            "dropout: 0.02\n",
            "units: 224\n",
            "learning_rate: 0.001\n",
            "tuner/epochs: 12\n",
            "tuner/initial_epoch: 0\n",
            "tuner/bracket: 2\n",
            "tuner/round: 0\n",
            "Score: 0.1526813954114914\n",
            "Trial summary\n",
            "Hyperparameters:\n",
            "num_filters: 32\n",
            "dropout: 0.08\n",
            "units: 512\n",
            "learning_rate: 0.001\n",
            "tuner/epochs: 12\n",
            "tuner/initial_epoch: 4\n",
            "tuner/bracket: 4\n",
            "tuner/round: 2\n",
            "tuner/trial_id: 54c77531eef707fccaf899c180f7db15\n",
            "Score: 0.14826498925685883\n",
            "Trial summary\n",
            "Hyperparameters:\n",
            "num_filters: 32\n",
            "dropout: 0.09\n",
            "units: 352\n",
            "learning_rate: 0.001\n",
            "tuner/epochs: 12\n",
            "tuner/initial_epoch: 0\n",
            "tuner/bracket: 2\n",
            "tuner/round: 0\n",
            "Score: 0.14258675277233124\n",
            "Trial summary\n",
            "Hyperparameters:\n",
            "num_filters: 64\n",
            "dropout: 0.05\n",
            "units: 320\n",
            "learning_rate: 0.001\n",
            "tuner/epochs: 12\n",
            "tuner/initial_epoch: 4\n",
            "tuner/bracket: 3\n",
            "tuner/round: 1\n",
            "tuner/trial_id: e369424bfa86665a25a7d41b0e748791\n",
            "Score: 0.13564668595790863\n",
            "Trial summary\n",
            "Hyperparameters:\n",
            "num_filters: 64\n",
            "dropout: 0.03\n",
            "units: 288\n",
            "learning_rate: 0.001\n",
            "tuner/epochs: 100\n",
            "tuner/initial_epoch: 34\n",
            "tuner/bracket: 1\n",
            "tuner/round: 1\n",
            "tuner/trial_id: 6f8b1c4bc5ca635db4ee72665c7eb254\n",
            "Score: 0.12996844947338104\n",
            "Trial summary\n",
            "Hyperparameters:\n",
            "num_filters: 64\n",
            "dropout: 0.05\n",
            "units: 224\n",
            "learning_rate: 0.001\n",
            "tuner/epochs: 12\n",
            "tuner/initial_epoch: 4\n",
            "tuner/bracket: 4\n",
            "tuner/round: 2\n",
            "tuner/trial_id: 3678d8befac60cea0f63de8383578d29\n",
            "Score: 0.1280757039785385\n",
            "Trial summary\n",
            "Hyperparameters:\n",
            "num_filters: 32\n",
            "dropout: 0.0\n",
            "units: 512\n",
            "learning_rate: 0.001\n",
            "tuner/epochs: 12\n",
            "tuner/initial_epoch: 4\n",
            "tuner/bracket: 3\n",
            "tuner/round: 1\n",
            "tuner/trial_id: 55c5a9b4255a4531e5e2701e021e8829\n",
            "Score: 0.127444788813591\n",
            "Trial summary\n",
            "Hyperparameters:\n",
            "num_filters: 64\n",
            "dropout: 0.07\n",
            "units: 320\n",
            "learning_rate: 0.001\n",
            "tuner/epochs: 100\n",
            "tuner/initial_epoch: 34\n",
            "tuner/bracket: 2\n",
            "tuner/round: 2\n",
            "tuner/trial_id: 044422041b70a29f702385233abd578e\n",
            "Score: 0.127444788813591\n",
            "Trial summary\n",
            "Hyperparameters:\n",
            "num_filters: 32\n",
            "dropout: 0.07\n",
            "units: 192\n",
            "learning_rate: 0.001\n",
            "tuner/epochs: 100\n",
            "tuner/initial_epoch: 0\n",
            "tuner/bracket: 0\n",
            "tuner/round: 0\n",
            "Score: 0.127444788813591\n"
          ],
          "name": "stdout"
        }
      ]
    },
    {
      "cell_type": "markdown",
      "metadata": {
        "id": "n7vkk1yPJCq_"
      },
      "source": [
        "**Epoch Optimization**"
      ]
    },
    {
      "cell_type": "code",
      "metadata": {
        "id": "fT6DN-u4UbrQ",
        "colab": {
          "base_uri": "https://localhost:8080/",
          "height": 231
        },
        "outputId": "57aa21d5-d493-40c3-e431-5f60871db0bc"
      },
      "source": [
        "# get best hp\n",
        "best_hps = tuner_1.get_best_hyperparameters(num_trials = 1)[0]\n",
        "#build best model \n",
        "model = tuner_1.hypermodel.build(best_hps)\n",
        "\n",
        "#train best model to find optimal number of epochs\n",
        "\n",
        "hist = model.fit(get_train_set(train_gen=train_gen, input_size = (224,224)),epochs = 100, validation_data = get_validation_set(train_gen=train_gen, input_size= (224,224)))\n"
      ],
      "execution_count": null,
      "outputs": [
        {
          "output_type": "error",
          "ename": "NameError",
          "evalue": "ignored",
          "traceback": [
            "\u001b[0;31m---------------------------------------------------------------------------\u001b[0m",
            "\u001b[0;31mNameError\u001b[0m                                 Traceback (most recent call last)",
            "\u001b[0;32m<ipython-input-1-f0be83959315>\u001b[0m in \u001b[0;36m<module>\u001b[0;34m()\u001b[0m\n\u001b[1;32m      1\u001b[0m \u001b[0;31m# get best hp\u001b[0m\u001b[0;34m\u001b[0m\u001b[0;34m\u001b[0m\u001b[0;34m\u001b[0m\u001b[0m\n\u001b[0;32m----> 2\u001b[0;31m \u001b[0mbest_hps\u001b[0m \u001b[0;34m=\u001b[0m \u001b[0mtuner_1\u001b[0m\u001b[0;34m.\u001b[0m\u001b[0mget_best_hyperparameters\u001b[0m\u001b[0;34m(\u001b[0m\u001b[0mnum_trials\u001b[0m \u001b[0;34m=\u001b[0m \u001b[0;36m1\u001b[0m\u001b[0;34m)\u001b[0m\u001b[0;34m[\u001b[0m\u001b[0;36m0\u001b[0m\u001b[0;34m]\u001b[0m\u001b[0;34m\u001b[0m\u001b[0;34m\u001b[0m\u001b[0m\n\u001b[0m\u001b[1;32m      3\u001b[0m \u001b[0;31m#build best model\u001b[0m\u001b[0;34m\u001b[0m\u001b[0;34m\u001b[0m\u001b[0;34m\u001b[0m\u001b[0m\n\u001b[1;32m      4\u001b[0m \u001b[0mmodel\u001b[0m \u001b[0;34m=\u001b[0m \u001b[0mtuner_1\u001b[0m\u001b[0;34m.\u001b[0m\u001b[0mhypermodel\u001b[0m\u001b[0;34m.\u001b[0m\u001b[0mbuild\u001b[0m\u001b[0;34m(\u001b[0m\u001b[0mbest_hps\u001b[0m\u001b[0;34m)\u001b[0m\u001b[0;34m\u001b[0m\u001b[0;34m\u001b[0m\u001b[0m\n\u001b[1;32m      5\u001b[0m \u001b[0;34m\u001b[0m\u001b[0m\n",
            "\u001b[0;31mNameError\u001b[0m: name 'tuner_1' is not defined"
          ]
        }
      ]
    },
    {
      "cell_type": "code",
      "metadata": {
        "id": "2aa9fQrvVOuh"
      },
      "source": [
        ""
      ],
      "execution_count": null,
      "outputs": []
    }
  ]
}