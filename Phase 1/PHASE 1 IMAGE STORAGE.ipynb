{
 "cells": [
  {
   "cell_type": "markdown",
   "metadata": {},
   "source": [
    "# PHASE 1: IMAGE STORAGE"
   ]
  },
  {
   "cell_type": "code",
   "execution_count": 1,
   "metadata": {},
   "outputs": [],
   "source": [
    "import matplotlib.pyplot as plt\n",
    "from scipy.io import loadmat\n",
    "import numpy as np \n",
    "import shutil\n",
    "import cv2\n",
    "import os"
   ]
  },
  {
   "cell_type": "code",
   "execution_count": 4,
   "metadata": {},
   "outputs": [],
   "source": [
    "mat = loadmat(\"C:\\\\Users\\\\micae\\\\Career Projects\\\\Car Dataset\\\\Car Dataset\\\\cars_annos.mat\")\n",
    "class_names = mat[\"class_names\"]"
   ]
  },
  {
   "cell_type": "code",
   "execution_count": 5,
   "metadata": {},
   "outputs": [],
   "source": [
    "# path = inside the test/train folder \n",
    "def create_folders(class_names, path):\n",
    "    os.chdir(path)\n",
    "    for i in range(class_names.shape[1]):\n",
    "        folder = os.path.join(path, str(i))\n",
    "        os.mkdir(folder)"
   ]
  },
  {
   "cell_type": "code",
   "execution_count": 6,
   "metadata": {},
   "outputs": [],
   "source": [
    "create_folders(class_names=class_names, path = \"C:\\\\Users\\\\micae\\\\OneDrive\\\\Documents\\\\DS 2 dataset\\\\train\")\n",
    "create_folders(class_names=class_names, path = \"C:\\\\Users\\\\micae\\\\OneDrive\\\\Documents\\\\DS 2 dataset\\\\test\")"
   ]
  },
  {
   "cell_type": "code",
   "execution_count": 7,
   "metadata": {},
   "outputs": [],
   "source": [
    "annotation_info = mat['annotations']\n",
    "training_annos = list()\n",
    "testing_annos = list()\n",
    "\n",
    "#get training and testing annotations \n",
    "for i in range(annotation_info.shape[1]):\n",
    "    if (int(annotation_info[0][i][6]) == 0):\n",
    "        training_annos.append(annotation_info[0][i])\n",
    "    elif (int(annotation_info[0][i][6]) == 1):\n",
    "        testing_annos.append(annotation_info[0][i])"
   ]
  },
  {
   "cell_type": "code",
   "execution_count": 8,
   "metadata": {},
   "outputs": [],
   "source": [
    "train_images = list()\n",
    "for file in os.listdir(\"C:\\\\Users\\\\micae\\\\OneDrive\\\\Documents\\\\DS 2 dataset\\\\train\"):\n",
    "    if file.endswith(\".jpg\"):\n",
    "        train_images.append(file)"
   ]
  },
  {
   "cell_type": "code",
   "execution_count": 9,
   "metadata": {},
   "outputs": [],
   "source": [
    "test_images = list()\n",
    "for file in os.listdir(\"C:\\\\Users\\\\micae\\\\OneDrive\\\\Documents\\\\DS 2 dataset\\\\test\"):\n",
    "    if file.endswith(\".jpg\"):\n",
    "        test_images.append(file)"
   ]
  },
  {
   "cell_type": "code",
   "execution_count": 10,
   "metadata": {},
   "outputs": [],
   "source": [
    "def move_images(path, labels, annos, image_array):\n",
    "    h,w = 196,1 ;\n",
    "    matrix = [[0 for x in range(w)] for y in range(h)]\n",
    "    i = 0\n",
    "    for file in os.listdir(path):\n",
    "        if file.endswith(\".jpg\"):\n",
    "            #get image name \n",
    "            img_name = str(annos[i][0]).replace(\"['\", \"\")\n",
    "            img_name = img_name.replace(\"']\", \"\")\n",
    "            img_name  =img_name.replace(\"/\", \"\\\\\")\n",
    "            img_name = img_name.replace(\"car_ims\\\\\",\"\")\n",
    "        \n",
    "            if (img_name == image_array[i]):\n",
    "                folder= int(annos[i][5])-1\n",
    "                matrix[folder].append(image_array[i])\n",
    "            i += 1\n",
    "    for i in range(196):\n",
    "        del matrix[i][0]\n",
    "    return matrix"
   ]
  },
  {
   "cell_type": "code",
   "execution_count": 11,
   "metadata": {},
   "outputs": [],
   "source": [
    "path = \"C:\\\\Users\\\\micae\\\\OneDrive\\\\Documents\\\\DS 2 dataset\\\\train\"\n",
    "\n",
    "train_grouped = move_images(path = \"C:\\\\Users\\\\micae\\\\OneDrive\\\\Documents\\\\DS 2 dataset\\\\train\",\n",
    "            labels = class_names,\n",
    "            annos = training_annos,\n",
    "            image_array = train_images)\n",
    "test_grouped = move_images(path = \"C:\\\\Users\\\\micae\\\\OneDrive\\\\Documents\\\\DS 2 dataset\\\\test\",\n",
    "            labels = class_names,\n",
    "            annos = testing_annos,\n",
    "            image_array = test_images)"
   ]
  },
  {
   "cell_type": "code",
   "execution_count": 12,
   "metadata": {},
   "outputs": [
    {
     "data": {
      "text/plain": [
       "['000001.jpg',\n",
       " '000002.jpg',\n",
       " '000003.jpg',\n",
       " '000004.jpg',\n",
       " '000005.jpg',\n",
       " '000006.jpg',\n",
       " '000007.jpg',\n",
       " '000008.jpg',\n",
       " '000009.jpg',\n",
       " '000010.jpg',\n",
       " '000011.jpg',\n",
       " '000012.jpg',\n",
       " '000013.jpg',\n",
       " '000014.jpg',\n",
       " '000015.jpg',\n",
       " '000016.jpg',\n",
       " '000017.jpg',\n",
       " '000018.jpg',\n",
       " '000019.jpg',\n",
       " '000020.jpg',\n",
       " '000021.jpg',\n",
       " '000022.jpg',\n",
       " '000023.jpg',\n",
       " '000024.jpg',\n",
       " '000025.jpg',\n",
       " '000026.jpg',\n",
       " '000027.jpg',\n",
       " '000028.jpg',\n",
       " '000029.jpg',\n",
       " '000030.jpg',\n",
       " '000031.jpg',\n",
       " '000032.jpg',\n",
       " '000033.jpg',\n",
       " '000034.jpg',\n",
       " '000035.jpg',\n",
       " '000036.jpg',\n",
       " '000037.jpg',\n",
       " '000038.jpg',\n",
       " '000039.jpg',\n",
       " '000040.jpg',\n",
       " '000041.jpg',\n",
       " '000042.jpg',\n",
       " '000043.jpg',\n",
       " '000044.jpg',\n",
       " '000045.jpg']"
      ]
     },
     "execution_count": 12,
     "metadata": {},
     "output_type": "execute_result"
    }
   ],
   "source": [
    "train_grouped[0]"
   ]
  },
  {
   "cell_type": "code",
   "execution_count": 27,
   "metadata": {},
   "outputs": [
    {
     "data": {
      "text/plain": [
       "196"
      ]
     },
     "execution_count": 27,
     "metadata": {},
     "output_type": "execute_result"
    }
   ],
   "source": [
    "len(test_grouped)"
   ]
  },
  {
   "cell_type": "code",
   "execution_count": 28,
   "metadata": {},
   "outputs": [],
   "source": [
    "def store_images(grouped, path):\n",
    "    os.chdir(path)\n",
    "    for i in range(len(grouped)):\n",
    "        for j in range(len(grouped[i])):\n",
    "            p = os.path.join(path, grouped[i][j])\n",
    "            shutil.move(p, os.path.join(path, str(i)))"
   ]
  },
  {
   "cell_type": "code",
   "execution_count": 29,
   "metadata": {},
   "outputs": [],
   "source": [
    "store_images(grouped = train_grouped, path  = \"C:\\\\Users\\\\micae\\\\OneDrive\\\\Documents\\\\DS 2 dataset\\\\train\")"
   ]
  },
  {
   "cell_type": "code",
   "execution_count": 30,
   "metadata": {},
   "outputs": [],
   "source": [
    "store_images(grouped = test_grouped, path = \"C:\\\\Users\\\\micae\\\\OneDrive\\\\Documents\\\\DS 2 dataset\\\\test\")"
   ]
  }
 ],
 "metadata": {
  "kernelspec": {
   "display_name": "Python 3",
   "language": "python",
   "name": "python3"
  },
  "language_info": {
   "codemirror_mode": {
    "name": "ipython",
    "version": 3
   },
   "file_extension": ".py",
   "mimetype": "text/x-python",
   "name": "python",
   "nbconvert_exporter": "python",
   "pygments_lexer": "ipython3",
   "version": "3.8.5"
  }
 },
 "nbformat": 4,
 "nbformat_minor": 4
}
